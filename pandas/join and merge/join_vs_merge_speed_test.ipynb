{
 "cells": [
  {
   "cell_type": "markdown",
   "metadata": {},
   "source": [
    "# Pandas Join vs Merge Speed Test\n",
    "\n",
    "Testing the speed of pandas join and merge  \n",
    "\n",
    "**Conclusions**  \n",
    "*Smaller Dataset (10K & 50K)*\n",
    "* Join is certainly faster than merge in `left` join, with a `smaller` dataset on the left\n",
    "* Join could be faster than merge in all methods, ranging from `-25% - ≥ 45%` (range various in different run)\n",
    "* Join in other methods could be slower than merge with relative small dataset\n",
    "\n",
    "*Larger Dataset (100K & 500K)*\n",
    "* join speed advantage to merge is shrinking\n",
    "* but more certain it is faster in all methods, except for inner join vs inner merge\n",
    "    * inner join is almost the same as inner merge, but could be faster sometimes\n",
    "\n",
    "**Author**  \n",
    "Pengxiang Xu  \n",
    "Data Scientist "
   ]
  },
  {
   "cell_type": "code",
   "execution_count": 1,
   "metadata": {},
   "outputs": [],
   "source": [
    "import pandas as pd\n",
    "import numpy as np\n",
    "import time\n",
    "import matplotlib.pyplot as plt"
   ]
  },
  {
   "cell_type": "markdown",
   "metadata": {},
   "source": [
    "## Create DataFrames\n",
    "\n",
    "* df1 is a smaller dataframe of the two\n",
    "* df2 is larger"
   ]
  },
  {
   "cell_type": "code",
   "execution_count": 2,
   "metadata": {},
   "outputs": [
    {
     "data": {
      "text/html": [
       "<div>\n",
       "<style scoped>\n",
       "    .dataframe tbody tr th:only-of-type {\n",
       "        vertical-align: middle;\n",
       "    }\n",
       "\n",
       "    .dataframe tbody tr th {\n",
       "        vertical-align: top;\n",
       "    }\n",
       "\n",
       "    .dataframe thead th {\n",
       "        text-align: right;\n",
       "    }\n",
       "</style>\n",
       "<table border=\"1\" class=\"dataframe\">\n",
       "  <thead>\n",
       "    <tr style=\"text-align: right;\">\n",
       "      <th></th>\n",
       "      <th>a1</th>\n",
       "      <th>b</th>\n",
       "    </tr>\n",
       "  </thead>\n",
       "  <tbody>\n",
       "    <tr>\n",
       "      <th>9984</th>\n",
       "      <td>9984</td>\n",
       "      <td>9984</td>\n",
       "    </tr>\n",
       "    <tr>\n",
       "      <th>551</th>\n",
       "      <td>551</td>\n",
       "      <td>551</td>\n",
       "    </tr>\n",
       "  </tbody>\n",
       "</table>\n",
       "</div>"
      ],
      "text/plain": [
       "        a1     b\n",
       "9984  9984  9984\n",
       "551    551   551"
      ]
     },
     "execution_count": 2,
     "metadata": {},
     "output_type": "execute_result"
    }
   ],
   "source": [
    "n1 = 10_000\n",
    "df1 = pd.DataFrame({\n",
    "    'a1': [a for a in range(n1)],\n",
    "    'b': [str(b) for b in range(n1)]\n",
    "})\n",
    "df1 = df1.sample(frac=1) # Shuffle dataframe\n",
    "df1.head(2)"
   ]
  },
  {
   "cell_type": "code",
   "execution_count": 3,
   "metadata": {},
   "outputs": [
    {
     "data": {
      "text/html": [
       "<div>\n",
       "<style scoped>\n",
       "    .dataframe tbody tr th:only-of-type {\n",
       "        vertical-align: middle;\n",
       "    }\n",
       "\n",
       "    .dataframe tbody tr th {\n",
       "        vertical-align: top;\n",
       "    }\n",
       "\n",
       "    .dataframe thead th {\n",
       "        text-align: right;\n",
       "    }\n",
       "</style>\n",
       "<table border=\"1\" class=\"dataframe\">\n",
       "  <thead>\n",
       "    <tr style=\"text-align: right;\">\n",
       "      <th></th>\n",
       "      <th>a2</th>\n",
       "      <th>b</th>\n",
       "    </tr>\n",
       "  </thead>\n",
       "  <tbody>\n",
       "    <tr>\n",
       "      <th>48381</th>\n",
       "      <td>48381</td>\n",
       "      <td>48381</td>\n",
       "    </tr>\n",
       "    <tr>\n",
       "      <th>29387</th>\n",
       "      <td>29387</td>\n",
       "      <td>29387</td>\n",
       "    </tr>\n",
       "  </tbody>\n",
       "</table>\n",
       "</div>"
      ],
      "text/plain": [
       "          a2      b\n",
       "48381  48381  48381\n",
       "29387  29387  29387"
      ]
     },
     "execution_count": 3,
     "metadata": {},
     "output_type": "execute_result"
    }
   ],
   "source": [
    "n2 = 50_000\n",
    "df2 = pd.DataFrame({\n",
    "    'a2': [a for a in range(n2)],\n",
    "    'b': [str(b) for b in range(n2)]\n",
    "})\n",
    "df2 = df2.sample(frac=1)\n",
    "df2.head(2)"
   ]
  },
  {
   "cell_type": "markdown",
   "metadata": {},
   "source": [
    "## Set a timing decroator "
   ]
  },
  {
   "cell_type": "code",
   "execution_count": 4,
   "metadata": {},
   "outputs": [],
   "source": [
    "def time_function(func):\n",
    "    \"\"\"\n",
    "    Time the function execution time\n",
    "\n",
    "    Args:\n",
    "        func: function\n",
    "\n",
    "    Returns:\n",
    "        wrap_func: function return results\n",
    "    \"\"\"\n",
    "    import time\n",
    "\n",
    "    def wrap_func(*args, **kwargs):\n",
    "        if 'stats' in kwargs and kwargs['stats']:\n",
    "            n_iter = 50\n",
    "            if 'n_iter' in kwargs:\n",
    "                n_iter = kwargs['n_iter']\n",
    "                _ = kwargs.pop('n_iter')\n",
    "            _ = kwargs.pop('stats')\n",
    "            \n",
    "            delta_ts = list()\n",
    "            \n",
    "            for i in range(n_iter):\n",
    "                start = time.time()\n",
    "                rst = func(*args, **kwargs)\n",
    "                end = time.time()\n",
    "                delta_ts.append(end - start)\n",
    "            delta_t_avg = np.mean(delta_ts)\n",
    "            delta_t_std = np.std(delta_ts)\n",
    "\n",
    "            print(f\"{kwargs['how']} {func.__name__} executed in \" + \n",
    "                  f\"{delta_t_avg:.5f}s on averge, with {delta_t_std:.5f}s in 1 Std.\")\n",
    "            return delta_t_avg, delta_t_std\n",
    "        else:\n",
    "            start = time.time()\n",
    "            rst = func(*args, **kwargs)\n",
    "            end = time.time()\n",
    "\n",
    "            delta_t = end - start\n",
    "            print(f\"{kwargs['how']} {func.__name__} executed in {delta_t:.5f}s\")\n",
    "            return delta_t\n",
    "    return wrap_func"
   ]
  },
  {
   "cell_type": "code",
   "execution_count": 5,
   "metadata": {},
   "outputs": [],
   "source": [
    "merge_join_how = ['inner', 'left', 'right', 'outer']\n",
    "time_dict = dict()"
   ]
  },
  {
   "cell_type": "markdown",
   "metadata": {},
   "source": [
    "## Merge\n",
    "Merge on column `b`"
   ]
  },
  {
   "cell_type": "code",
   "execution_count": 6,
   "metadata": {},
   "outputs": [],
   "source": [
    "@time_function\n",
    "def merge(df1, df2, **kwargs):\n",
    "    \"\"\"\n",
    "    Merge\n",
    "    \n",
    "    Args:\n",
    "        df1: dataframe 1\n",
    "        df2: dataframe 2\n",
    "    \"\"\"\n",
    "    _ = df1.merge(df2, **kwargs)"
   ]
  },
  {
   "cell_type": "code",
   "execution_count": 7,
   "metadata": {},
   "outputs": [
    {
     "name": "stdout",
     "output_type": "stream",
     "text": [
      "inner merge executed in 0.01640s on averge, with 0.00494s in 1 Std.\n",
      "left merge executed in 0.01402s on averge, with 0.00282s in 1 Std.\n",
      "right merge executed in 0.01923s on averge, with 0.00205s in 1 Std.\n",
      "outer merge executed in 0.01794s on averge, with 0.00172s in 1 Std.\n"
     ]
    }
   ],
   "source": [
    "time_dict[('merge', 'avg')] = list()\n",
    "time_dict[('merge', 'std')] = list()\n",
    "\n",
    "for how in merge_join_how:\n",
    "    t_avg, t_std = merge(df1, df2, on='b', how=how, stats=True)\n",
    "    \n",
    "    time_dict[('merge', 'avg')] .append(t_avg)\n",
    "    time_dict[('merge', 'std')].append(t_std)"
   ]
  },
  {
   "cell_type": "markdown",
   "metadata": {},
   "source": [
    "## Join\n",
    "Set index on `b`, then join"
   ]
  },
  {
   "cell_type": "code",
   "execution_count": 8,
   "metadata": {},
   "outputs": [
    {
     "name": "stdout",
     "output_type": "stream",
     "text": [
      "CPU times: user 3.27 ms, sys: 538 µs, total: 3.81 ms\n",
      "Wall time: 3.33 ms\n"
     ]
    }
   ],
   "source": [
    "%%time\n",
    "df1_ = df1.set_index('b')\n",
    "df2_ = df2.set_index('b')"
   ]
  },
  {
   "cell_type": "code",
   "execution_count": 9,
   "metadata": {},
   "outputs": [],
   "source": [
    "@time_function\n",
    "def join(df1, df2, **kwargs):\n",
    "    \"\"\"\n",
    "    Join\n",
    "    \n",
    "    Args:\n",
    "        df1: dataframe 1\n",
    "        df2: dataframe 2\n",
    "    \"\"\"\n",
    "    _ = df1.join(df2, **kwargs)"
   ]
  },
  {
   "cell_type": "code",
   "execution_count": 10,
   "metadata": {},
   "outputs": [
    {
     "name": "stdout",
     "output_type": "stream",
     "text": [
      "inner join executed in 0.01491s on averge, with 0.00298s in 1 Std.\n",
      "left join executed in 0.01114s on averge, with 0.00112s in 1 Std.\n",
      "right join executed in 0.01933s on averge, with 0.00276s in 1 Std.\n",
      "outer join executed in 0.01832s on averge, with 0.00141s in 1 Std.\n"
     ]
    }
   ],
   "source": [
    "time_dict[('join', 'avg')] = list()\n",
    "time_dict[('join', 'std')] = list()\n",
    "\n",
    "for how in merge_join_how:\n",
    "    t_avg, t_std = join(df1_, df2_, on='b', how=how, stats=True)\n",
    "    \n",
    "    time_dict[('join', 'avg')].append(t_avg)\n",
    "    time_dict[('join', 'std')].append(t_std)"
   ]
  },
  {
   "cell_type": "markdown",
   "metadata": {},
   "source": [
    "## Compare"
   ]
  },
  {
   "cell_type": "code",
   "execution_count": 11,
   "metadata": {},
   "outputs": [
    {
     "data": {
      "text/html": [
       "<div>\n",
       "<style scoped>\n",
       "    .dataframe tbody tr th:only-of-type {\n",
       "        vertical-align: middle;\n",
       "    }\n",
       "\n",
       "    .dataframe tbody tr th {\n",
       "        vertical-align: top;\n",
       "    }\n",
       "\n",
       "    .dataframe thead tr th {\n",
       "        text-align: left;\n",
       "    }\n",
       "</style>\n",
       "<table border=\"1\" class=\"dataframe\">\n",
       "  <thead>\n",
       "    <tr>\n",
       "      <th></th>\n",
       "      <th colspan=\"2\" halign=\"left\">merge</th>\n",
       "      <th colspan=\"2\" halign=\"left\">join</th>\n",
       "    </tr>\n",
       "    <tr>\n",
       "      <th></th>\n",
       "      <th>avg</th>\n",
       "      <th>std</th>\n",
       "      <th>avg</th>\n",
       "      <th>std</th>\n",
       "    </tr>\n",
       "  </thead>\n",
       "  <tbody>\n",
       "    <tr>\n",
       "      <th>inner</th>\n",
       "      <td>0.016404</td>\n",
       "      <td>0.004936</td>\n",
       "      <td>0.014911</td>\n",
       "      <td>0.002982</td>\n",
       "    </tr>\n",
       "    <tr>\n",
       "      <th>left</th>\n",
       "      <td>0.014017</td>\n",
       "      <td>0.002821</td>\n",
       "      <td>0.011139</td>\n",
       "      <td>0.001120</td>\n",
       "    </tr>\n",
       "    <tr>\n",
       "      <th>right</th>\n",
       "      <td>0.019226</td>\n",
       "      <td>0.002050</td>\n",
       "      <td>0.019331</td>\n",
       "      <td>0.002762</td>\n",
       "    </tr>\n",
       "    <tr>\n",
       "      <th>outer</th>\n",
       "      <td>0.017943</td>\n",
       "      <td>0.001722</td>\n",
       "      <td>0.018324</td>\n",
       "      <td>0.001410</td>\n",
       "    </tr>\n",
       "  </tbody>\n",
       "</table>\n",
       "</div>"
      ],
      "text/plain": [
       "          merge                join          \n",
       "            avg       std       avg       std\n",
       "inner  0.016404  0.004936  0.014911  0.002982\n",
       "left   0.014017  0.002821  0.011139  0.001120\n",
       "right  0.019226  0.002050  0.019331  0.002762\n",
       "outer  0.017943  0.001722  0.018324  0.001410"
      ]
     },
     "execution_count": 11,
     "metadata": {},
     "output_type": "execute_result"
    }
   ],
   "source": [
    "df = pd.DataFrame(time_dict, index=merge_join_how)\n",
    "df"
   ]
  },
  {
   "cell_type": "code",
   "execution_count": 12,
   "metadata": {},
   "outputs": [
    {
     "data": {
      "image/png": "[encoded data removed]",
      "text/plain": [
       "<Figure size 720x288 with 1 Axes>"
      ]
     },
     "metadata": {
      "needs_background": "light"
     },
     "output_type": "display_data"
    }
   ],
   "source": [
    "merge_std_p1 = df[('merge', 'avg')].values + df[('merge', 'std')].values\n",
    "merge_std_n1 = df[('merge', 'avg')].values - df[('merge', 'std')].values\n",
    "join_std_p1 = df[('join', 'avg')].values + df[('join', 'std')].values\n",
    "join_std_n1 = df[('join', 'avg')].values - df[('join', 'std')].values\n",
    "\n",
    "ax = df[[('merge', 'avg'), ('join', 'avg')]].plot.line(figsize=(10, 4))\n",
    "_ = ax.fill_between(df.index, merge_std_p1, merge_std_n1, alpha=0.3)\n",
    "_ = ax.fill_between(df.index, join_std_p1, join_std_n1, alpha=0.3)\n",
    "_ = ax.set_xlabel('Merge Join Method')\n",
    "_ = ax.set_ylabel('Time Consumed [s]')\n",
    "_ = ax.set_title('Merge vs Join\\nAverage Time Consumption wtih 1 Std. by Methods')"
   ]
  },
  {
   "cell_type": "markdown",
   "metadata": {},
   "source": [
    "## Join is Faster, by How Much?\n",
    "* Join is faster some cases\n",
    "* Join is certainly faster in left join vs left merge `≥25% faster` with the smaller dataset on the left-side\n",
    "* Join in other methods could be slower than merge with relative small dataset"
   ]
  },
  {
   "cell_type": "code",
   "execution_count": 13,
   "metadata": {},
   "outputs": [],
   "source": [
    "df['join_n_pct_faster'] = (df[('merge', 'avg')] - df[('join', 'avg')]) / df[('merge', 'avg')] * 100.0"
   ]
  },
  {
   "cell_type": "code",
   "execution_count": 14,
   "metadata": {},
   "outputs": [
    {
     "data": {
      "image/png": "[encoded data removed]",
      "text/plain": [
       "<Figure size 720x288 with 1 Axes>"
      ]
     },
     "metadata": {
      "needs_background": "light"
     },
     "output_type": "display_data"
    }
   ],
   "source": [
    "ax = df[['join_n_pct_faster']].plot.bar(figsize=(10, 4), legend=False)\n",
    "_ = ax.set_xlabel('Merge Join Method')\n",
    "_ = ax.set_ylabel('Percentage [%]')\n",
    "_ = ax.set_title('Percentage of Time Consumption Reduction\\nin Join aginst Merge by Methods')"
   ]
  },
  {
   "cell_type": "code",
   "execution_count": 15,
   "metadata": {},
   "outputs": [
    {
     "data": {
      "text/html": [
       "<div>\n",
       "<style scoped>\n",
       "    .dataframe tbody tr th:only-of-type {\n",
       "        vertical-align: middle;\n",
       "    }\n",
       "\n",
       "    .dataframe tbody tr th {\n",
       "        vertical-align: top;\n",
       "    }\n",
       "\n",
       "    .dataframe thead tr th {\n",
       "        text-align: left;\n",
       "    }\n",
       "</style>\n",
       "<table border=\"1\" class=\"dataframe\">\n",
       "  <thead>\n",
       "    <tr>\n",
       "      <th></th>\n",
       "      <th>join_n_pct_faster</th>\n",
       "    </tr>\n",
       "    <tr>\n",
       "      <th></th>\n",
       "      <th></th>\n",
       "    </tr>\n",
       "  </thead>\n",
       "  <tbody>\n",
       "    <tr>\n",
       "      <th>inner</th>\n",
       "      <td>9.102571</td>\n",
       "    </tr>\n",
       "    <tr>\n",
       "      <th>left</th>\n",
       "      <td>20.531277</td>\n",
       "    </tr>\n",
       "    <tr>\n",
       "      <th>right</th>\n",
       "      <td>-0.548552</td>\n",
       "    </tr>\n",
       "    <tr>\n",
       "      <th>outer</th>\n",
       "      <td>-2.121310</td>\n",
       "    </tr>\n",
       "  </tbody>\n",
       "</table>\n",
       "</div>"
      ],
      "text/plain": [
       "      join_n_pct_faster\n",
       "                       \n",
       "inner          9.102571\n",
       "left          20.531277\n",
       "right         -0.548552\n",
       "outer         -2.121310"
      ]
     },
     "execution_count": 15,
     "metadata": {},
     "output_type": "execute_result"
    }
   ],
   "source": [
    "df[['join_n_pct_faster']]"
   ]
  },
  {
   "cell_type": "markdown",
   "metadata": {},
   "source": [
    "## What Happen if Data Gets Larger"
   ]
  },
  {
   "cell_type": "code",
   "execution_count": 16,
   "metadata": {},
   "outputs": [
    {
     "data": {
      "text/html": [
       "<div>\n",
       "<style scoped>\n",
       "    .dataframe tbody tr th:only-of-type {\n",
       "        vertical-align: middle;\n",
       "    }\n",
       "\n",
       "    .dataframe tbody tr th {\n",
       "        vertical-align: top;\n",
       "    }\n",
       "\n",
       "    .dataframe thead th {\n",
       "        text-align: right;\n",
       "    }\n",
       "</style>\n",
       "<table border=\"1\" class=\"dataframe\">\n",
       "  <thead>\n",
       "    <tr style=\"text-align: right;\">\n",
       "      <th></th>\n",
       "      <th>a3</th>\n",
       "      <th>b</th>\n",
       "    </tr>\n",
       "  </thead>\n",
       "  <tbody>\n",
       "    <tr>\n",
       "      <th>62323</th>\n",
       "      <td>62323</td>\n",
       "      <td>62323</td>\n",
       "    </tr>\n",
       "    <tr>\n",
       "      <th>10496</th>\n",
       "      <td>10496</td>\n",
       "      <td>10496</td>\n",
       "    </tr>\n",
       "  </tbody>\n",
       "</table>\n",
       "</div>"
      ],
      "text/plain": [
       "          a3      b\n",
       "62323  62323  62323\n",
       "10496  10496  10496"
      ]
     },
     "execution_count": 16,
     "metadata": {},
     "output_type": "execute_result"
    }
   ],
   "source": [
    "n3 = 100_000\n",
    "df3 = pd.DataFrame({\n",
    "    'a3': [a for a in range(n3)],\n",
    "    'b': [str(b) for b in range(n3)]\n",
    "})\n",
    "df3 = df3.sample(frac=1)\n",
    "df3.head(2)"
   ]
  },
  {
   "cell_type": "code",
   "execution_count": 17,
   "metadata": {},
   "outputs": [
    {
     "data": {
      "text/html": [
       "<div>\n",
       "<style scoped>\n",
       "    .dataframe tbody tr th:only-of-type {\n",
       "        vertical-align: middle;\n",
       "    }\n",
       "\n",
       "    .dataframe tbody tr th {\n",
       "        vertical-align: top;\n",
       "    }\n",
       "\n",
       "    .dataframe thead th {\n",
       "        text-align: right;\n",
       "    }\n",
       "</style>\n",
       "<table border=\"1\" class=\"dataframe\">\n",
       "  <thead>\n",
       "    <tr style=\"text-align: right;\">\n",
       "      <th></th>\n",
       "      <th>a4</th>\n",
       "      <th>b</th>\n",
       "    </tr>\n",
       "  </thead>\n",
       "  <tbody>\n",
       "    <tr>\n",
       "      <th>460108</th>\n",
       "      <td>460108</td>\n",
       "      <td>460108</td>\n",
       "    </tr>\n",
       "    <tr>\n",
       "      <th>215668</th>\n",
       "      <td>215668</td>\n",
       "      <td>215668</td>\n",
       "    </tr>\n",
       "  </tbody>\n",
       "</table>\n",
       "</div>"
      ],
      "text/plain": [
       "            a4       b\n",
       "460108  460108  460108\n",
       "215668  215668  215668"
      ]
     },
     "execution_count": 17,
     "metadata": {},
     "output_type": "execute_result"
    }
   ],
   "source": [
    "n4 = 500_000\n",
    "df4 = pd.DataFrame({\n",
    "    'a4': [a for a in range(n4)],\n",
    "    'b': [str(b) for b in range(n4)]\n",
    "})\n",
    "df4 = df4.sample(frac=1)\n",
    "df4.head(2)"
   ]
  },
  {
   "cell_type": "markdown",
   "metadata": {},
   "source": [
    "## Run Larger Dataset Test"
   ]
  },
  {
   "cell_type": "code",
   "execution_count": 18,
   "metadata": {},
   "outputs": [],
   "source": [
    "larger_time_dict = dict()"
   ]
  },
  {
   "cell_type": "code",
   "execution_count": 19,
   "metadata": {},
   "outputs": [
    {
     "name": "stdout",
     "output_type": "stream",
     "text": [
      "inner merge executed in 0.34833s on averge, with 0.01186s in 1 Std.\n",
      "left merge executed in 0.35387s on averge, with 0.00981s in 1 Std.\n",
      "right merge executed in 0.47702s on averge, with 0.01590s in 1 Std.\n",
      "outer merge executed in 0.46127s on averge, with 0.00822s in 1 Std.\n"
     ]
    }
   ],
   "source": [
    "larger_time_dict[('merge', 'avg')] = list()\n",
    "larger_time_dict[('merge', 'std')] = list()\n",
    "\n",
    "for how in merge_join_how:\n",
    "    t_avg, t_std = merge(df3, df4, on='b', how=how, stats=True, n_iter=10)\n",
    "    \n",
    "    larger_time_dict[('merge', 'avg')] .append(t_avg)\n",
    "    larger_time_dict[('merge', 'std')].append(t_std)"
   ]
  },
  {
   "cell_type": "code",
   "execution_count": 20,
   "metadata": {},
   "outputs": [
    {
     "name": "stdout",
     "output_type": "stream",
     "text": [
      "inner join executed in 0.34387s on averge, with 0.00410s in 1 Std.\n",
      "left join executed in 0.28353s on averge, with 0.01092s in 1 Std.\n",
      "right join executed in 0.45089s on averge, with 0.01509s in 1 Std.\n",
      "outer join executed in 0.43446s on averge, with 0.01451s in 1 Std.\n"
     ]
    }
   ],
   "source": [
    "larger_time_dict[('join', 'avg')] = list()\n",
    "larger_time_dict[('join', 'std')] = list()\n",
    "\n",
    "df3_ = df3.set_index('b')\n",
    "df4_ = df4.set_index('b')\n",
    "\n",
    "for how in merge_join_how:\n",
    "    t_avg, t_std = join(df3_, df4_, on='b', how=how, stats=True, n_iter=10)\n",
    "    \n",
    "    larger_time_dict[('join', 'avg')].append(t_avg)\n",
    "    larger_time_dict[('join', 'std')].append(t_std)"
   ]
  },
  {
   "cell_type": "code",
   "execution_count": 21,
   "metadata": {},
   "outputs": [
    {
     "data": {
      "text/html": [
       "<div>\n",
       "<style scoped>\n",
       "    .dataframe tbody tr th:only-of-type {\n",
       "        vertical-align: middle;\n",
       "    }\n",
       "\n",
       "    .dataframe tbody tr th {\n",
       "        vertical-align: top;\n",
       "    }\n",
       "\n",
       "    .dataframe thead tr th {\n",
       "        text-align: left;\n",
       "    }\n",
       "</style>\n",
       "<table border=\"1\" class=\"dataframe\">\n",
       "  <thead>\n",
       "    <tr>\n",
       "      <th></th>\n",
       "      <th colspan=\"2\" halign=\"left\">merge</th>\n",
       "      <th colspan=\"2\" halign=\"left\">join</th>\n",
       "    </tr>\n",
       "    <tr>\n",
       "      <th></th>\n",
       "      <th>avg</th>\n",
       "      <th>std</th>\n",
       "      <th>avg</th>\n",
       "      <th>std</th>\n",
       "    </tr>\n",
       "  </thead>\n",
       "  <tbody>\n",
       "    <tr>\n",
       "      <th>inner</th>\n",
       "      <td>0.348332</td>\n",
       "      <td>0.011857</td>\n",
       "      <td>0.343867</td>\n",
       "      <td>0.004099</td>\n",
       "    </tr>\n",
       "    <tr>\n",
       "      <th>left</th>\n",
       "      <td>0.353874</td>\n",
       "      <td>0.009809</td>\n",
       "      <td>0.283535</td>\n",
       "      <td>0.010918</td>\n",
       "    </tr>\n",
       "    <tr>\n",
       "      <th>right</th>\n",
       "      <td>0.477022</td>\n",
       "      <td>0.015904</td>\n",
       "      <td>0.450894</td>\n",
       "      <td>0.015091</td>\n",
       "    </tr>\n",
       "    <tr>\n",
       "      <th>outer</th>\n",
       "      <td>0.461266</td>\n",
       "      <td>0.008216</td>\n",
       "      <td>0.434463</td>\n",
       "      <td>0.014513</td>\n",
       "    </tr>\n",
       "  </tbody>\n",
       "</table>\n",
       "</div>"
      ],
      "text/plain": [
       "          merge                join          \n",
       "            avg       std       avg       std\n",
       "inner  0.348332  0.011857  0.343867  0.004099\n",
       "left   0.353874  0.009809  0.283535  0.010918\n",
       "right  0.477022  0.015904  0.450894  0.015091\n",
       "outer  0.461266  0.008216  0.434463  0.014513"
      ]
     },
     "execution_count": 21,
     "metadata": {},
     "output_type": "execute_result"
    }
   ],
   "source": [
    "df_large = pd.DataFrame(larger_time_dict, index=merge_join_how)\n",
    "df_large"
   ]
  },
  {
   "cell_type": "code",
   "execution_count": 22,
   "metadata": {},
   "outputs": [
    {
     "data": {
      "image/png": "[encoded data removed]",
      "text/plain": [
       "<Figure size 720x288 with 1 Axes>"
      ]
     },
     "metadata": {
      "needs_background": "light"
     },
     "output_type": "display_data"
    }
   ],
   "source": [
    "merge_large_std_p1 = df_large[('merge', 'avg')].values + df_large[('merge', 'std')].values\n",
    "merge_large_std_n1 = df_large[('merge', 'avg')].values - df_large[('merge', 'std')].values\n",
    "join_large_std_p1 = df_large[('join', 'avg')].values + df_large[('join', 'std')].values\n",
    "join_large_std_n1 = df_large[('join', 'avg')].values - df_large[('join', 'std')].values\n",
    "\n",
    "ax = df_large[[('merge', 'avg'), ('join', 'avg')]].plot.line(figsize=(10, 4))\n",
    "_ = ax.fill_between(df_large.index, merge_large_std_p1, merge_large_std_n1, alpha=0.3)\n",
    "_ = ax.fill_between(df_large.index, join_large_std_p1, join_large_std_n1, alpha=0.3)\n",
    "_ = ax.set_xlabel('Merge Join Method')\n",
    "_ = ax.set_ylabel('Time Consumed [s]')\n",
    "_ = ax.set_title('Merge vs Join\\nAverage Time Consumption with 1 Std. by Methods')"
   ]
  },
  {
   "cell_type": "markdown",
   "metadata": {},
   "source": [
    "## Left Join Advantage is Shrinking with Larger Dataset"
   ]
  },
  {
   "cell_type": "code",
   "execution_count": 23,
   "metadata": {},
   "outputs": [],
   "source": [
    "df_large['join_n_pct_faster'] = (df_large[('merge', 'avg')] - df_large[('join', 'avg')]) / df_large[('merge', 'avg')] * 100.0"
   ]
  },
  {
   "cell_type": "code",
   "execution_count": 24,
   "metadata": {},
   "outputs": [
    {
     "data": {
      "image/png": "[encoded data removed]",
      "text/plain": [
       "<Figure size 720x288 with 1 Axes>"
      ]
     },
     "metadata": {
      "needs_background": "light"
     },
     "output_type": "display_data"
    }
   ],
   "source": [
    "ax = df_large[['join_n_pct_faster']].plot.bar(figsize=(10, 4), legend=False)\n",
    "_ = ax.set_xlabel('Merge Join Method')\n",
    "_ = ax.set_ylabel('Percentage [%]')\n",
    "_ = ax.set_title('Percentage of Time Consumption Reduction\\nin Join aginst Merge by Methods')"
   ]
  },
  {
   "cell_type": "code",
   "execution_count": 25,
   "metadata": {},
   "outputs": [
    {
     "data": {
      "text/html": [
       "<div>\n",
       "<style scoped>\n",
       "    .dataframe tbody tr th:only-of-type {\n",
       "        vertical-align: middle;\n",
       "    }\n",
       "\n",
       "    .dataframe tbody tr th {\n",
       "        vertical-align: top;\n",
       "    }\n",
       "\n",
       "    .dataframe thead tr th {\n",
       "        text-align: left;\n",
       "    }\n",
       "</style>\n",
       "<table border=\"1\" class=\"dataframe\">\n",
       "  <thead>\n",
       "    <tr>\n",
       "      <th></th>\n",
       "      <th>join_n_pct_faster</th>\n",
       "    </tr>\n",
       "    <tr>\n",
       "      <th></th>\n",
       "      <th></th>\n",
       "    </tr>\n",
       "  </thead>\n",
       "  <tbody>\n",
       "    <tr>\n",
       "      <th>inner</th>\n",
       "      <td>1.281806</td>\n",
       "    </tr>\n",
       "    <tr>\n",
       "      <th>left</th>\n",
       "      <td>19.876919</td>\n",
       "    </tr>\n",
       "    <tr>\n",
       "      <th>right</th>\n",
       "      <td>5.477477</td>\n",
       "    </tr>\n",
       "    <tr>\n",
       "      <th>outer</th>\n",
       "      <td>5.810768</td>\n",
       "    </tr>\n",
       "  </tbody>\n",
       "</table>\n",
       "</div>"
      ],
      "text/plain": [
       "      join_n_pct_faster\n",
       "                       \n",
       "inner          1.281806\n",
       "left          19.876919\n",
       "right          5.477477\n",
       "outer          5.810768"
      ]
     },
     "execution_count": 25,
     "metadata": {},
     "output_type": "execute_result"
    }
   ],
   "source": [
    "df_large[['join_n_pct_faster']]"
   ]
  },
  {
   "cell_type": "code",
   "execution_count": null,
   "metadata": {},
   "outputs": [],
   "source": []
  }
 ],
 "metadata": {
  "kernelspec": {
   "display_name": "Python 3",
   "language": "python",
   "name": "python3"
  },
  "language_info": {
   "codemirror_mode": {
    "name": "ipython",
    "version": 3
   },
   "file_extension": ".py",
   "mimetype": "text/x-python",
   "name": "python",
   "nbconvert_exporter": "python",
   "pygments_lexer": "ipython3",
   "version": "3.6.9"
  }
 },
 "nbformat": 4,
 "nbformat_minor": 4
}
